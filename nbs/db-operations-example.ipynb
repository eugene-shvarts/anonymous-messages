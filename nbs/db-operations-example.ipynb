{
 "cells": [
  {
   "cell_type": "code",
   "execution_count": 1,
   "id": "3f4a6b7d-ce8d-4546-a275-e6e31e86028a",
   "metadata": {},
   "outputs": [],
   "source": [
    "from base64 import b64encode, b64decode\n",
    "import bcrypt\n",
    "import csv\n",
    "from tqdm.notebook import tqdm\n",
    "\n",
    "import sys\n",
    "sys.path.append('../app')\n",
    "import cipher\n",
    "from model import Person\n",
    "from util import ConnectionContext\n",
    "from constants import MYSQL_PORT, USER_SECRET_KEY_LENGTH"
   ]
  },
  {
   "cell_type": "code",
   "execution_count": 2,
   "id": "0277fa8b-b9dd-4ebc-8339-1157e79999fe",
   "metadata": {},
   "outputs": [],
   "source": [
    "connctx = ConnectionContext({\n",
    "    'user': os.environ.get('MYSQL_DB_USER'),\n",
    "    'password': os.environ.get('MYSQL_DB_PASSWORD'),\n",
    "    'db': os.environ.get('MYSQL_DB_DATABASE'),\n",
    "    'host': os.environ.get('MYSQL_DB_HOST'),\n",
    "    'port': MYSQL_PORT\n",
    "})"
   ]
  },
  {
   "cell_type": "code",
   "execution_count": 3,
   "id": "956a0d04-1876-4339-a578-b7d3e1e881d7",
   "metadata": {},
   "outputs": [],
   "source": [
    "# populate user data with random data for example\n",
    "\n",
    "import random, string\n",
    "def randname():\n",
    "    names = ''.join(random.choices(string.ascii_lowercase, k=12))\n",
    "    return names[:6], names[:6] + '-' + names[6:]\n",
    "\n",
    "user_list_file = '../data/user_names.csv'\n",
    "\n",
    "with open(user_list_file, 'w') as f:\n",
    "    w = csv.writer(f)\n",
    "    for name, fullname in [randname() for _ in range(10)]:\n",
    "        w.writerow((name, fullname))"
   ]
  },
  {
   "cell_type": "code",
   "execution_count": 4,
   "id": "58c9b3ff-3b2e-421e-a128-ccf33f02a891",
   "metadata": {},
   "outputs": [
    {
     "data": {
      "application/vnd.jupyter.widget-view+json": {
       "model_id": "0354bacd5ee744c78aa79f9a9c1081c0",
       "version_major": 2,
       "version_minor": 0
      },
      "text/plain": [
       "  0%|          | 0/10 [00:00<?, ?it/s]"
      ]
     },
     "metadata": {},
     "output_type": "display_data"
    }
   ],
   "source": [
    "### example of how to populate a database with users\n",
    "#\n",
    "# in this example, the csv has the format\n",
    "# firstname1, fullname1\n",
    "# firstname2, fullname2\n",
    "# ...\n",
    "#\n",
    "# and outputs a csv where each line is\n",
    "# name, fullname, secret\n",
    "\n",
    "user_list_file = '../data/user_names.csv'\n",
    "output_file = '../data/user_secrets.csv'\n",
    "\n",
    "nrows = 0\n",
    "with open(user_list_file) as f:\n",
    "    for _ in csv.reader(f):\n",
    "        nrows += 1\n",
    "\n",
    "with connctx as conn, open(user_list_file) as f, open(output_file, 'w') as g:\n",
    "    writer = csv.writer(g)\n",
    "    for row in tqdm(csv.reader(f), total=nrows):\n",
    "        sec = Person.new(conn, row[0], row[1])\n",
    "        writer.writerow(row + [sec])\n"
   ]
  },
  {
   "cell_type": "code",
   "execution_count": 5,
   "id": "dc0a5b0c-8faa-41c4-b683-70e847fc8de3",
   "metadata": {},
   "outputs": [
    {
     "data": {
      "application/vnd.jupyter.widget-view+json": {
       "model_id": "afabff538e674e3fa62e89e4f4d756c6",
       "version_major": 2,
       "version_minor": 0
      },
      "text/plain": [
       "  0%|          | 0/10 [00:00<?, ?it/s]"
      ]
     },
     "metadata": {},
     "output_type": "display_data"
    }
   ],
   "source": [
    "### example to verify that user secrets are capable of encrypting and decrypting messages\n",
    "message = \"hello world\"\n",
    "\n",
    "with connctx as conn, open(output_file) as f:\n",
    "    for row in tqdm(csv.reader(f), total=nrows):\n",
    "        pid, pw = cipher.user_info_from_secret(row[2])\n",
    "        person = Person.get(conn, pid)\n",
    "        assert message == cipher.hybrid_decrypt(\n",
    "            cipher.hybrid_encrypt(\n",
    "                message,\n",
    "                cipher.deserialize_public_key(person.public_key)\n",
    "            ), cipher.decrypt_private_key(\n",
    "                person.encrypted_private_key,\n",
    "                pw\n",
    "            )\n",
    "        )"
   ]
  },
  {
   "cell_type": "code",
   "execution_count": 6,
   "id": "3d1838ae-ff93-4a6f-a2b0-2145f6ada188",
   "metadata": {},
   "outputs": [],
   "source": [
    "### create a test user if necessary\n",
    "\n",
    "testuser_names = ('testy', 'testy-mctesterson')\n",
    "\n",
    "private_key, public_key = cipher.generate_key_pair()\n",
    "public_key_str = cipher.serialize_public_key(public_key)\n",
    "\n",
    "pw = os.urandom(USER_SECRET_KEY_LENGTH)\n",
    "encrypted_private_key = cipher.encrypt_private_key(private_key, pw)\n",
    "secret_key_hash = bcrypt.hashpw(pw, bcrypt.gensalt()).decode()\n",
    "\n",
    "with connctx as conn:\n",
    "    Person(*testuser_names, public_key_str, encrypted_private_key, secret_key_hash).insert(conn)\n",
    "    pid = conn.lastrowid"
   ]
  },
  {
   "cell_type": "code",
   "execution_count": 7,
   "id": "2e2949f8-c521-44f2-92ec-4e39d2913949",
   "metadata": {},
   "outputs": [],
   "source": [
    "### example of nuking and resetting keys for a test user, without changing the password\n",
    "\n",
    "# insert your own data here of course\n",
    "testuser_names = ('testy', 'testy-mctesterson')\n",
    "pid = 83\n",
    "pw = b64decode(b'IuFeurTvzUlj46igTj2rh8sL')\n",
    "\n",
    "private_key, public_key = cipher.generate_key_pair()\n",
    "public_key_str = cipher.serialize_public_key(public_key)\n",
    "encrypted_private_key = cipher.encrypt_private_key(private_key, pw)\n",
    "secret_key_hash = bcrypt.hashpw(pw, bcrypt.gensalt()).decode()\n",
    "\n",
    "with connctx as conn:\n",
    "    conn.execute(\n",
    "        'UPDATE persons SET secret_key_hash = %s, public_key = %s, encrypted_private_key = %s WHERE id = %s',\n",
    "        (secret_key_hash, public_key_str, encrypted_private_key, pid)\n",
    "    )\n"
   ]
  },
  {
   "cell_type": "code",
   "execution_count": null,
   "id": "2cf6d8a6-76fb-4a16-b372-84d57e458958",
   "metadata": {},
   "outputs": [],
   "source": []
  }
 ],
 "metadata": {
  "kernelspec": {
   "display_name": "Python 3 (ipykernel)",
   "language": "python",
   "name": "python3"
  },
  "language_info": {
   "codemirror_mode": {
    "name": "ipython",
    "version": 3
   },
   "file_extension": ".py",
   "mimetype": "text/x-python",
   "name": "python",
   "nbconvert_exporter": "python",
   "pygments_lexer": "ipython3",
   "version": "3.12.2"
  }
 },
 "nbformat": 4,
 "nbformat_minor": 5
}
