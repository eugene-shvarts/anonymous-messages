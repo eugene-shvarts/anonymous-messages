{
 "cells": [
  {
   "cell_type": "code",
   "execution_count": 15,
   "id": "3f4a6b7d-ce8d-4546-a275-e6e31e86028a",
   "metadata": {},
   "outputs": [],
   "source": [
    "import MySQLdb, sshtunnel, csv, bcrypt"
   ]
  },
  {
   "cell_type": "code",
   "execution_count": 28,
   "id": "24d8ce62-7fdb-43d8-a8bf-14b2466f7b8f",
   "metadata": {},
   "outputs": [],
   "source": [
    "BIND_PORT = 4360"
   ]
  },
  {
   "cell_type": "code",
   "execution_count": 29,
   "id": "9cf75335-115d-4e5d-8180-f24b54c68ba3",
   "metadata": {},
   "outputs": [],
   "source": [
    "tunnel = sshtunnel.open_tunnel(\n",
    "    os.environ.get('SSH_HOST'),\n",
    "    ssh_username=os.environ.get('SSH_USER'),\n",
    "    ssh_password=os.environ.get('SSH_PASSWORD'),\n",
    "    local_bind_address=('127.0.0.1', BIND_PORT),\n",
    "    remote_bind_address=(os.environ.get('MYSQL_DB_HOST'), 3306)\n",
    ")"
   ]
  },
  {
   "cell_type": "code",
   "execution_count": 27,
   "id": "45563ae7-6412-4ffb-bef7-23f9fa5e6ea6",
   "metadata": {},
   "outputs": [],
   "source": [
    "with tunnel:\n",
    "    db = MySQLdb.connect(\n",
    "        user = os.environ.get('MYSQL_DB_USER'),\n",
    "        password = os.environ.get('MYSQL_DB_PASSWORD'),\n",
    "        database = os.environ.get('MYSQL_DB_DATABASE'),\n",
    "        host = '127.0.0.1',\n",
    "        port = BIND_PORT\n",
    "    )\n",
    "    cur = db.cursor()\n",
    "    \n",
    "    with open('../data/unicorn-keys.csv') as f:   \n",
    "        for row in csv.reader(f):\n",
    "            name = row[0]\n",
    "            fullname = row[1]\n",
    "            keyhash = bcrypt.hashpw(row[2].encode(), bcrypt.gensalt()).decode()\n",
    "            cur = db.cursor()\n",
    "            cur.execute(\n",
    "                \"insert into persons (person_name, person_fullname, secret_key) values (%s, %s, %s)\",\n",
    "                (name, fullname, keyhash)\n",
    "            )\n",
    "\n",
    "    db.commit()\n",
    "    cur.close()\n",
    "    db.close()"
   ]
  }
 ],
 "metadata": {
  "kernelspec": {
   "display_name": "Python 3 (ipykernel)",
   "language": "python",
   "name": "python3"
  },
  "language_info": {
   "codemirror_mode": {
    "name": "ipython",
    "version": 3
   },
   "file_extension": ".py",
   "mimetype": "text/x-python",
   "name": "python",
   "nbconvert_exporter": "python",
   "pygments_lexer": "ipython3",
   "version": "3.12.2"
  }
 },
 "nbformat": 4,
 "nbformat_minor": 5
}
