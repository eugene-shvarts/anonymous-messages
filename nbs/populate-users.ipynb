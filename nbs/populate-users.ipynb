{
 "cells": [
  {
   "cell_type": "code",
   "execution_count": 1,
   "id": "3f4a6b7d-ce8d-4546-a275-e6e31e86028a",
   "metadata": {},
   "outputs": [],
   "source": [
    "import sys\n",
    "sys.path.append('../app')\n",
    "import cipher\n",
    "\n",
    "from base64 import b64encode, b64decode\n",
    "import bcrypt\n",
    "import csv\n",
    "import MySQLdb\n",
    "from tqdm.notebook import tqdm"
   ]
  },
  {
   "cell_type": "code",
   "execution_count": 21,
   "id": "45563ae7-6412-4ffb-bef7-23f9fa5e6ea6",
   "metadata": {},
   "outputs": [],
   "source": [
    "## originally used to add all users to DB\n",
    "\n",
    "# fn = '../data/unicorn-keys-2.csv'\n",
    "\n",
    "# with tunnel:\n",
    "#     db = MySQLdb.connect(\n",
    "#         user = os.environ.get('MYSQL_DB_USER'),\n",
    "#         password = os.environ.get('MYSQL_DB_PASSWORD'),\n",
    "#         database = os.environ.get('MYSQL_DB_DATABASE'),\n",
    "#         host = '127.0.0.1',\n",
    "#         port = BIND_PORT\n",
    "#     )\n",
    "#     cur = db.cursor()\n",
    "\n",
    "#     nrows = 0\n",
    "#     with open(fn) as f:\n",
    "#         for _ in csv.reader(f):\n",
    "#             nrows += 1\n",
    "    \n",
    "#     with open(fn) as f:   \n",
    "#         for row in tqdm(csv.reader(f), total=nrows):\n",
    "#             name = row[0]\n",
    "#             fullname = row[1]\n",
    "#             pw = fullname + '$' + row[2]\n",
    "#             keyhash = bcrypt.hashpw(row[2].encode(), bcrypt.gensalt()).decode()\n",
    "            \n",
    "#             cur.execute(\n",
    "#                 \"insert into persons (name, fullname, secret_key_hash) values (%s, %s, %s)\",\n",
    "#                 (name, fullname, keyhash)\n",
    "#             )\n",
    "\n",
    "#     db.commit()\n",
    "#     cur.close()\n",
    "#     db.close()"
   ]
  },
  {
   "cell_type": "code",
   "execution_count": 6,
   "id": "2e2949f8-c521-44f2-92ec-4e39d2913949",
   "metadata": {},
   "outputs": [
    {
     "data": {
      "application/vnd.jupyter.widget-view+json": {
       "model_id": "dfcbf08528e6436c95314f238774b6ea",
       "version_major": 2,
       "version_minor": 0
      },
      "text/plain": [
       "  0%|          | 0/63 [00:00<?, ?it/s]"
      ]
     },
     "metadata": {},
     "output_type": "display_data"
    }
   ],
   "source": [
    "### originally used to add x25519 keys for all users to DB\n",
    "\n",
    "fn = '../data/unicorn-keys.csv'\n",
    "\n",
    "db = MySQLdb.connect(\n",
    "    user = os.environ.get('MYSQL_DB_USER'),\n",
    "    password = os.environ.get('MYSQL_DB_PASSWORD'),\n",
    "    database = os.environ.get('MYSQL_DB_DATABASE'),\n",
    "    host = os.environ.get('MYSQL_DB_HOST'),\n",
    "    port = 3306\n",
    ")\n",
    "cur = db.cursor()\n",
    "\n",
    "nrows = 0\n",
    "with open(fn) as f:\n",
    "    for _ in csv.reader(f):\n",
    "        nrows += 1\n",
    "\n",
    "with open(fn) as f:\n",
    "    for row in tqdm(csv.reader(f), total=nrows):\n",
    "        pid, pw = cipher.user_info_from_secret(row[2])\n",
    "        priv, pub = cipher.generate_key_pair()\n",
    "        public_key = cipher.serialize_public_key(pub)\n",
    "        encrypted_private_key = cipher.encrypt_private_key(priv, pw)\n",
    "        keyhash = bcrypt.hashpw(pw, bcrypt.gensalt()).decode()\n",
    "\n",
    "        cur.execute(\n",
    "            \"update persons set secret_key_hash = %s where id = %s\",\n",
    "            (keyhash, pid)\n",
    "        )\n",
    "        cur.execute(\n",
    "            \"update persons set public_key = %s where id = %s\",\n",
    "            (public_key, pid)\n",
    "        )\n",
    "        cur.execute(\n",
    "            \"update persons set encrypted_private_key = %s where id = %s\",\n",
    "            (encrypted_private_key, pid)\n",
    "        )\n",
    "\n",
    "db.commit()\n",
    "cur.close()\n",
    "db.close()"
   ]
  },
  {
   "cell_type": "code",
   "execution_count": 11,
   "id": "52e52cce-59e8-4164-b454-62c116f6a442",
   "metadata": {},
   "outputs": [],
   "source": [
    "# nuke and reset keys for the test user\n",
    "\n",
    "with MySQLdb.connect(\n",
    "    user = os.environ.get('MYSQL_DB_USER'),\n",
    "    password = os.environ.get('MYSQL_DB_PASSWORD'),\n",
    "    database = os.environ.get('MYSQL_DB_DATABASE'),\n",
    "    host = os.environ.get('MYSQL_DB_HOST'),\n",
    "    port = 3306\n",
    ") as db, db.cursor() as cur:\n",
    "    pid, pw = cipher.user_info_from_secret('an_extremely_secret_secret')\n",
    "    priv, pub = cipher.generate_key_pair()\n",
    "    public_key = cipher.serialize_public_key(pub)\n",
    "    encrypted_private_key = cipher.encrypt_private_key(priv, pw)\n",
    "    keyhash = bcrypt.hashpw(pw, bcrypt.gensalt()).decode()\n",
    "    \n",
    "    cur.execute(\n",
    "        \"update persons set secret_key_hash = %s where id = %s\",\n",
    "        (keyhash, pid)\n",
    "    )\n",
    "    cur.execute(\n",
    "        \"update persons set public_key = %s where id = %s\",\n",
    "        (public_key, pid)\n",
    "    )\n",
    "    cur.execute(\n",
    "        \"update persons set encrypted_private_key = %s where id = %s\",\n",
    "        (encrypted_private_key, pid)\n",
    "    )\n",
    "\n",
    "    db.commit()"
   ]
  },
  {
   "cell_type": "code",
   "execution_count": null,
   "id": "2cf6d8a6-76fb-4a16-b372-84d57e458958",
   "metadata": {},
   "outputs": [],
   "source": []
  }
 ],
 "metadata": {
  "kernelspec": {
   "display_name": "Python 3 (ipykernel)",
   "language": "python",
   "name": "python3"
  },
  "language_info": {
   "codemirror_mode": {
    "name": "ipython",
    "version": 3
   },
   "file_extension": ".py",
   "mimetype": "text/x-python",
   "name": "python",
   "nbconvert_exporter": "python",
   "pygments_lexer": "ipython3",
   "version": "3.12.2"
  }
 },
 "nbformat": 4,
 "nbformat_minor": 5
}
