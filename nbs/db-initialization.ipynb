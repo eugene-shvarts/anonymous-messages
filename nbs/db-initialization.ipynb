{
 "cells": [
  {
   "cell_type": "code",
   "execution_count": 1,
   "id": "21905250-e13b-4214-8557-d7e0627ef54a",
   "metadata": {},
   "outputs": [],
   "source": [
    "from itertools import chain\n",
    "\n",
    "import sys\n",
    "sys.path.append('../app')\n",
    "from util import ConnectionContext\n",
    "from constants import MYSQL_PORT"
   ]
  },
  {
   "cell_type": "code",
   "execution_count": 2,
   "id": "9e1b2dab-9a39-4e6c-a41e-48d3e099c1b4",
   "metadata": {},
   "outputs": [],
   "source": [
    "connctx = ConnectionContext({\n",
    "    'user': os.environ.get('MYSQL_DB_USER'),\n",
    "    'password': os.environ.get('MYSQL_DB_PASSWORD'),\n",
    "    'db': os.environ.get('MYSQL_DB_DATABASE'),\n",
    "    'host': os.environ.get('MYSQL_DB_HOST'),\n",
    "    'port': MYSQL_PORT\n",
    "})"
   ]
  },
  {
   "cell_type": "code",
   "execution_count": 3,
   "id": "d073f394-0bbc-4f7e-ac41-1095c3517ccb",
   "metadata": {},
   "outputs": [],
   "source": [
    "### sets up the database with the correct schema, and some default questions\n",
    "questions = [\n",
    "    (\n",
    "        \"favorite_memory\",\n",
    "        \"What's your favorite memory of me?\"\n",
    "    ),\n",
    "    (\n",
    "        \"lasting_impact\",\n",
    "        \"What's a lasting impact I've left on you?\"\n",
    "    ),\n",
    "    (\n",
    "        \"shared_activity\",\n",
    "        \"What's an activity you'd want to do with me?\"\n",
    "    ),\n",
    "    (\n",
    "        \"anything_else\",\n",
    "        \"Anything else you want me to know?\"\n",
    "    )\n",
    "]\n",
    "\n",
    "question_stmt = \"\"\"CREATE TABLE IF NOT EXISTS `questions` (\n",
    "    `id` INT NOT NULL AUTO_INCREMENT PRIMARY KEY,\n",
    "    `text` TEXT,\n",
    "    `label` VARCHAR(50)\n",
    ")\"\"\"\n",
    "\n",
    "persons_stmt = \"\"\"CREATE TABLE IF NOT EXISTS `persons` (\n",
    "    `id` INT NOT NULL AUTO_INCREMENT PRIMARY KEY,\n",
    "    `name` VARCHAR(50),\n",
    "    `fullname` VARCHAR(100) NOT NULL,\n",
    "    `secret_key_hash` VARCHAR(60) NOT NULL,\n",
    "    `encrypted_private_key` TEXT NOT NULL,\n",
    "    `public_key` TEXT NOT NULL\n",
    ")\"\"\"\n",
    "\n",
    "responses_stmt = \"\"\"CREATE TABLE IF NOT EXISTS `responses` (\n",
    "    `id` INT NOT NULL AUTO_INCREMENT PRIMARY KEY,\n",
    "    `question_id` INT NOT NULL,\n",
    "    `group_id` INT NOT NULL,\n",
    "    `person_id` INT NOT NULL,\n",
    "    `encrypted_text` TEXT\n",
    ")\"\"\"\n",
    "\n",
    "with connctx as conn:\n",
    "    conn.execute(question_stmt)\n",
    "    conn.execute(persons_stmt)\n",
    "    conn.execute(responses_stmt)\n",
    "    conn.execute(\n",
    "        f'INSERT INTO questions (label, text) VALUES {\", \".join([\"(%s, %s)\"] * len(questions))}',\n",
    "        chain.from_iterable(questions)\n",
    "    )\n"
   ]
  },
  {
   "cell_type": "code",
   "execution_count": null,
   "id": "3532cd3d-9efb-4bdc-aa24-3560c310d620",
   "metadata": {},
   "outputs": [],
   "source": []
  }
 ],
 "metadata": {
  "kernelspec": {
   "display_name": "Python 3 (ipykernel)",
   "language": "python",
   "name": "python3"
  },
  "language_info": {
   "codemirror_mode": {
    "name": "ipython",
    "version": 3
   },
   "file_extension": ".py",
   "mimetype": "text/x-python",
   "name": "python",
   "nbconvert_exporter": "python",
   "pygments_lexer": "ipython3",
   "version": "3.12.2"
  }
 },
 "nbformat": 4,
 "nbformat_minor": 5
}
